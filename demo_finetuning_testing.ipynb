{
 "cells": [
  {
   "cell_type": "markdown",
   "metadata": {},
   "source": [
    "# Fine-tuning pre-trained model"
   ]
  },
  {
   "cell_type": "code",
   "execution_count": 1,
   "metadata": {},
   "outputs": [
    {
     "name": "stdout",
     "output_type": "stream",
     "text": [
      "Spliting data into training and cross-validation in a 70:30 ratio...\n",
      "Data Loaded - # Samples: 316 | Image Shape: torch.Size([4, 4, 1100, 850]) | Label Shape: torch.Size([4, 1])\n",
      "Data Loaded - # Samples: 136 | Image Shape: torch.Size([4, 4, 1100, 850]) | Label Shape: torch.Size([4, 1])\n",
      "Model Instantiated. # of parameters: 3.95e+07\n"
     ]
    }
   ],
   "source": [
    "import models, dataUtils, trainUtils\n",
    "from importlib import reload\n",
    "import torch, torch.nn as nn, torch.optim as optim\n",
    "from torch.optim import lr_scheduler\n",
    "reload(models); reload(dataUtils); reload(trainUtils)\n",
    "TRAIN_DATA_PATH = './data/demoSample/'\n",
    "PRETRAINED_MODEL_PATH = './modelWts/modelState_Apr06-12:31_Acc_100.00%.pth'\n",
    "\n",
    "# Split train and val in a 70:30 ratio\n",
    "dataUtils.splitTrainVal(TRAIN_DATA_PATH)\n",
    "\n",
    "# Loading data\n",
    "dataLoaders = {\n",
    "    'train':dataUtils.loadPdfData(dataPath=TRAIN_DATA_PATH + 'train/', batchSize=4, \n",
    "                                  rotationAngle=1, shear=1, scalePerc=0.05, translatePerc=0.02, \n",
    "                                  brightness=0.1, contrast=0.1, saturation=0.1, hue=0.1), \n",
    "    'val':dataUtils.loadPdfData(dataPath=TRAIN_DATA_PATH + 'val/', batchSize=4)}\n",
    "\n",
    "# Define model architecture on GPU\n",
    "model = models.resnet18(inChannels=4, num_classes=2).cuda()\n",
    "\n",
    "# Instantiate loss and optimizer\n",
    "criterion = nn.CrossEntropyLoss()\n",
    "optimizer  = optim.Adam(model.parameters(), lr=1e-4)\n",
    "scheduler = lr_scheduler.StepLR(optimizer, step_size=1000, gamma=0.1)\n",
    "\n",
    "# Load pretrained model and optimizer states wts \n",
    "modelWts = torch.load(PRETRAINED_MODEL_PATH)\n",
    "model.load_state_dict(modelWts['model'].state_dict())\n",
    "optimizer.load_state_dict(modelWts['optimizer'].state_dict())"
   ]
  },
  {
   "cell_type": "code",
   "execution_count": 2,
   "metadata": {},
   "outputs": [
    {
     "name": "stdout",
     "output_type": "stream",
     "text": [
      "-->|15:00:42| Begin Training ...\n",
      "\n",
      "-->|15:01:05| Epoch 0/9 train - Loss:0.3953 | Accuracy:84.49% | LR:1.0e-04\n",
      "-->|15:01:15| Epoch 0/9 val - Loss:0.9004 | Accuracy:50.00% | LR:1.0e-04\n",
      "\n",
      "-->|15:01:39| Epoch 1/9 train - Loss:0.3417 | Accuracy:85.44% | LR:1.0e-04\n",
      "-->|15:01:48| Epoch 1/9 val - Loss:0.0199 | Accuracy:100.00% | LR:1.0e-04\n",
      "\n",
      "-->|15:02:13| Epoch 2/9 train - Loss:0.2580 | Accuracy:88.92% | LR:1.0e-04\n",
      "-->|15:02:23| Epoch 2/9 val - Loss:0.0566 | Accuracy:100.00% | LR:1.0e-04\n",
      "\n",
      "-->|15:02:48| Epoch 3/9 train - Loss:0.1708 | Accuracy:93.67% | LR:1.0e-04\n",
      "-->|15:02:57| Epoch 3/9 val - Loss:0.0048 | Accuracy:100.00% | LR:1.0e-04\n",
      "\n",
      "-->|15:03:22| Epoch 4/9 train - Loss:0.0976 | Accuracy:97.47% | LR:1.0e-04\n",
      "-->|15:03:32| Epoch 4/9 val - Loss:0.0020 | Accuracy:100.00% | LR:1.0e-04\n",
      "\n",
      "-->|15:03:57| Epoch 5/9 train - Loss:0.0488 | Accuracy:99.37% | LR:1.0e-04\n",
      "-->|15:04:06| Epoch 5/9 val - Loss:0.0062 | Accuracy:100.00% | LR:1.0e-04\n",
      "\n",
      "-->|15:04:31| Epoch 6/9 train - Loss:0.0269 | Accuracy:99.68% | LR:1.0e-04\n",
      "-->|15:04:40| Epoch 6/9 val - Loss:0.0027 | Accuracy:100.00% | LR:1.0e-04\n",
      "\n",
      "-->|15:05:05| Epoch 7/9 train - Loss:0.0199 | Accuracy:99.68% | LR:1.0e-04\n",
      "-->|15:05:14| Epoch 7/9 val - Loss:0.1405 | Accuracy:100.00% | LR:1.0e-04\n",
      "\n",
      "-->|15:05:39| Epoch 8/9 train - Loss:0.0192 | Accuracy:99.68% | LR:1.0e-04\n",
      "-->|15:05:48| Epoch 8/9 val - Loss:0.0014 | Accuracy:100.00% | LR:1.0e-04\n",
      "\n",
      "-->|15:06:13| Epoch 9/9 train - Loss:0.0197 | Accuracy:99.05% | LR:1.0e-04\n",
      "-->|15:06:23| Epoch 9/9 val - Loss:0.0029 | Accuracy:100.00% | LR:1.0e-04\n",
      "\n",
      "Training complete in 5m 40s\n",
      "Best val Acc: 100.00%\n"
     ]
    }
   ],
   "source": [
    "# Fine Tune model\n",
    "model = trainUtils.trainModel(model=model, optimizer=optimizer, criterion=criterion, scheduler=scheduler, dataLoaders=dataLoaders, numEpochs=10)"
   ]
  },
  {
   "cell_type": "markdown",
   "metadata": {},
   "source": [
    "# Testing on new data "
   ]
  },
  {
   "cell_type": "code",
   "execution_count": 3,
   "metadata": {},
   "outputs": [
    {
     "name": "stdout",
     "output_type": "stream",
     "text": [
      "Data Loaded - # Samples: 5658 | Image Shape: torch.Size([2, 4, 1100, 850]) | Label Shape: torch.Size([2, 1])\n",
      "-->|15:06:25| Begin Testing ...\n",
      "\n",
      "Testing complete in 5m 54s\n",
      "Acc: 100.00%\n",
      "Confidence 0.50 | No_Change Precision: 100.00% | No_Change Recall: 100.00%\n",
      "Confidence 0.80 | No_Change Precision: 100.00% | No_Change Recall: 100.00%\n",
      "Confidence 0.85 | No_Change Precision: 100.00% | No_Change Recall: 100.00%\n",
      "Precision- % of correctly predicted no_change/total predicted no_change | Recall- % of correctly predicted no_change/total actual no_change\n"
     ]
    }
   ],
   "source": [
    "# Ensure data is split as change and no change inorder to calculate accuracy\n",
    "reload(trainUtils)\n",
    "TEST_DATA_PATH = './data/XFACT_SNAP_SAMPLE_GENERATED/'\n",
    "\n",
    "# Load test data\n",
    "dataLoader = dataUtils.loadPdfData(dataPath=TEST_DATA_PATH, batchSize=2)\n",
    "\n",
    "#test\n",
    "trainUtils.testModel(model=model, dataLoader=dataLoader)"
   ]
  },
  {
   "cell_type": "code",
   "execution_count": null,
   "metadata": {},
   "outputs": [],
   "source": []
  }
 ],
 "metadata": {
  "kernelspec": {
   "display_name": "Python 3",
   "language": "python",
   "name": "python3"
  },
  "language_info": {
   "codemirror_mode": {
    "name": "ipython",
    "version": 3
   },
   "file_extension": ".py",
   "mimetype": "text/x-python",
   "name": "python",
   "nbconvert_exporter": "python",
   "pygments_lexer": "ipython3",
   "version": "3.6.4"
  }
 },
 "nbformat": 4,
 "nbformat_minor": 2
}
